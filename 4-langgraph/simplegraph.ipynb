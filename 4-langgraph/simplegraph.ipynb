{
 "cells": [
  {
   "cell_type": "code",
   "execution_count": 1,
   "metadata": {},
   "outputs": [],
   "source": [
    "from typing_extensions import TypedDict\n",
    "class State(TypedDict):\n",
    "    graph_state:str "
   ]
  },
  {
   "cell_type": "code",
   "execution_count": 2,
   "metadata": {},
   "outputs": [],
   "source": [
    "def first_node(state):\n",
    "    print(\"My First Node is called\")\n",
    "    return {\"graph_state\":state['graph_state']+\"I am playing\"}\n",
    "\n",
    "def Second_node(state):\n",
    "    print(\"My First Node is called\")\n",
    "    return {\"graph_state\":state['graph_state']+\" Cricket\"}\n",
    "\n",
    "def Third_node(state):\n",
    "    print(\"My First Node is called\")\n",
    "    return {\"graph_state\":state['graph_state']+\" Badminton\"}"
   ]
  },
  {
   "cell_type": "code",
   "execution_count": 3,
   "metadata": {},
   "outputs": [],
   "source": [
    "import random\n",
    "from typing import Literal\n",
    "def decide_play(state) -> Literal['Second_node', 'Third_node']:\n",
    "    graph_state = state['graph_state']\n",
    "\n",
    "    if random.random()<0.5:\n",
    "        return \"Second_node\"\n",
    "    return \"Third_node\""
   ]
  },
  {
   "cell_type": "markdown",
   "metadata": {},
   "source": [
    "## Graph\n",
    "\n",
    "- state graph\n",
    "    - node\n",
    "    - eadges"
   ]
  },
  {
   "cell_type": "code",
   "execution_count": 4,
   "metadata": {},
   "outputs": [
    {
     "data": {
      "image/png": "[encoded data removed]",
      "text/plain": [
       "<IPython.core.display.Image object>"
      ]
     },
     "metadata": {},
     "output_type": "display_data"
    }
   ],
   "source": [
    "from IPython.display import Image, display\n",
    "from langgraph.graph import StateGraph, START, END\n",
    "\n",
    "## Build Graph\n",
    "builder = StateGraph(State)\n",
    "\n",
    "builder.add_node(\"first_node\", first_node)\n",
    "builder.add_node(\"Second_node\", Second_node)\n",
    "builder.add_node(\"Third_node\", Third_node)\n",
    "\n",
    "\n",
    "## Logic\n",
    "builder.add_edge(START, \"first_node\")\n",
    "builder.add_conditional_edges(\"first_node\", decide_play)\n",
    "builder.add_edge(\"Second_node\", END)\n",
    "builder.add_edge(\"Third_node\", END)\n",
    "\n",
    "\n",
    "## Add\n",
    "graph =  builder.compile()\n",
    "\n",
    "## View\n",
    "display(Image(graph.get_graph().draw_mermaid_png()))"
   ]
  },
  {
   "cell_type": "code",
   "execution_count": 5,
   "metadata": {},
   "outputs": [
    {
     "name": "stdout",
     "output_type": "stream",
     "text": [
      "My First Node is called\n",
      "My First Node is called\n"
     ]
    },
    {
     "data": {
      "text/plain": [
       "{'graph_state': 'Hi my name is saurabh, I am playing Cricket'}"
      ]
     },
     "execution_count": 5,
     "metadata": {},
     "output_type": "execute_result"
    }
   ],
   "source": [
    "graph.invoke({'graph_state':\"Hi my name is saurabh, \"})"
   ]
  },
  {
   "cell_type": "code",
   "execution_count": null,
   "metadata": {},
   "outputs": [],
   "source": []
  },
  {
   "cell_type": "markdown",
   "metadata": {},
   "source": [
    "## Basic Chatbot"
   ]
  },
  {
   "cell_type": "code",
   "execution_count": 6,
   "metadata": {},
   "outputs": [],
   "source": [
    "from typing import Annotated\n",
    "from typing_extensions import TypedDict\n",
    "from langgraph.graph import StateGraph, START, END\n",
    "from langgraph.graph.message import add_messages"
   ]
  },
  {
   "cell_type": "code",
   "execution_count": 7,
   "metadata": {},
   "outputs": [],
   "source": [
    "class State(TypedDict):\n",
    "    messages: Annotated[list, add_messages]"
   ]
  },
  {
   "cell_type": "code",
   "execution_count": 8,
   "metadata": {},
   "outputs": [],
   "source": [
    "graph_builder = StateGraph(State)"
   ]
  },
  {
   "cell_type": "code",
   "execution_count": 9,
   "metadata": {},
   "outputs": [],
   "source": [
    "import os \n",
    "from dotenv import load_dotenv\n",
    "\n",
    "load_dotenv()\n",
    "os.environ[\"GROQ_API_KEY\"] = os.getenv(\"GROQ_API_KEY\")"
   ]
  },
  {
   "cell_type": "code",
   "execution_count": 10,
   "metadata": {},
   "outputs": [
    {
     "data": {
      "text/plain": [
       "ChatGroq(client=<groq.resources.chat.completions.Completions object at 0x77a6cbea98e0>, async_client=<groq.resources.chat.completions.AsyncCompletions object at 0x77a6cbeaa930>, model_name='gemma2-9b-it', model_kwargs={}, groq_api_key=SecretStr('**********'))"
      ]
     },
     "execution_count": 10,
     "metadata": {},
     "output_type": "execute_result"
    }
   ],
   "source": [
    "from langchain_groq import ChatGroq\n",
    "llm = ChatGroq(model=\"gemma2-9b-it\")\n",
    "llm"
   ]
  },
  {
   "cell_type": "code",
   "execution_count": 11,
   "metadata": {},
   "outputs": [],
   "source": [
    "def chatbot(state:State):\n",
    "    return {\"messages\":[llm.invoke(state[\"messages\"])]}"
   ]
  },
  {
   "cell_type": "code",
   "execution_count": 12,
   "metadata": {},
   "outputs": [],
   "source": [
    "graph_builder.add_node(\"chatbot\", chatbot)\n",
    "graph_builder.add_edge(START, 'chatbot')\n",
    "graph_builder.add_edge(\"chatbot\", END)\n",
    "\n",
    "graph = graph_builder.compile()\n"
   ]
  },
  {
   "cell_type": "code",
   "execution_count": 13,
   "metadata": {},
   "outputs": [
    {
     "data": {
      "image/png": "[encoded data removed]",
      "text/plain": [
       "<IPython.core.display.Image object>"
      ]
     },
     "metadata": {},
     "output_type": "display_data"
    }
   ],
   "source": [
    "from IPython.display import Image, display\n",
    "display(Image(graph.get_graph().draw_mermaid_png()))"
   ]
  },
  {
   "cell_type": "code",
   "execution_count": 15,
   "metadata": {},
   "outputs": [],
   "source": [
    "def stream_graph_updates(user_input: str):\n",
    "    for event in graph.stream({\"messages\": [{\"role\": \"user\", \"content\": user_input}]}):\n",
    "        for value in event.values():\n",
    "            print(\"Assistant:\", value['messages'][-1].content)"
   ]
  },
  {
   "cell_type": "code",
   "execution_count": 16,
   "metadata": {},
   "outputs": [
    {
     "name": "stdout",
     "output_type": "stream",
     "text": [
      "Assistant: Hi Saurabh, it's nice to meet you! 👋 \n",
      "\n",
      "What can I do for you today? 😊  \n",
      "\n",
      "\n",
      "Assistant: Hi! 👋 \n",
      "\n",
      "How can I help you today?\n",
      "\n",
      "Assistant: Here are some of the most important topics in machine learning, broken down into categories:\n",
      "\n",
      "**Fundamentals**\n",
      "\n",
      "* **Supervised Learning:**  Training models on labeled data to predict outcomes (e.g., classification, regression).\n",
      "    * **Algorithms:** Linear Regression, Logistic Regression, Support Vector Machines (SVMs), Decision Trees, Random Forests, Naive Bayes, k-Nearest Neighbors.\n",
      "* **Unsupervised Learning:** Discovering patterns and structures in unlabeled data (e.g., clustering, dimensionality reduction).\n",
      "    * **Algorithms:** K-Means Clustering, Hierarchical Clustering, Principal Component Analysis (PCA), t-SNE.\n",
      "* **Reinforcement Learning:** Training agents to make decisions in an environment to maximize rewards (e.g., game playing, robotics).\n",
      "    * **Concepts:** States, Actions, Rewards, Policy, Value Function.\n",
      "* **Model Evaluation:**  Metrics to assess the performance of machine learning models (e.g., accuracy, precision, recall, F1-score, AUC, RMSE).\n",
      "* **Overfitting and Underfitting:**  Understanding the bias-variance tradeoff and techniques to prevent these issues (e.g., regularization, cross-validation).\n",
      "\n",
      "**Core Algorithms and Techniques**\n",
      "\n",
      "* **Linear Algebra:**  Fundamental for understanding how machine learning algorithms work (vectors, matrices, eigenvalues, eigenvectors).\n",
      "* **Calculus:**  Used in optimization algorithms to train models (gradients, derivatives).\n",
      "* **Probability and Statistics:**  Foundation for understanding data distributions, uncertainty, and model evaluation.\n",
      "* **Feature Engineering:**  Selecting, transforming, and creating relevant features to improve model performance.\n",
      "\n",
      "**Deep Learning**\n",
      "\n",
      "* **Neural Networks:**  Structure inspired by the human brain, capable of learning complex representations.\n",
      "    * **Types:** Convolutional Neural Networks (CNNs), Recurrent Neural Networks (RNNs), Long Short-Term Memory (LSTM) networks.\n",
      "* **Backpropagation:**  Algorithm for training neural networks by adjusting weights based on error.\n",
      "* **Activation Functions:**  Introduce non-linearity into neural networks, enabling them to learn complex patterns.\n",
      "* **Deep Learning Frameworks:**  Tools for building and training deep learning models (e.g., TensorFlow, PyTorch).\n",
      "\n",
      "**Other Important Areas**\n",
      "\n",
      "* **Natural Language Processing (NLP):**  Applying machine learning to understand and generate human language (e.g., text classification, machine translation, sentiment analysis).\n",
      "* **Computer Vision:**  Enabling computers to \"see\" and interpret images (e.g., object detection, image classification, image segmentation).\n",
      "* **Robotics:**  Using machine learning for robot control, navigation, and perception.\n",
      "* **Data Science:**  The broader field encompassing machine learning, statistics, data visualization, and domain expertise.\n",
      "* **Ethical Considerations:**  Addressing bias, fairness, transparency, and accountability in machine learning systems.\n",
      "\n",
      "\n",
      "\n",
      "Let me know if you'd like to delve deeper into any specific topic!\n",
      "\n",
      "Goodby!\n"
     ]
    }
   ],
   "source": [
    "while True:\n",
    "    try:\n",
    "        user_input = input(\"User: \")\n",
    "        if user_input.lower() in [\"quit\", \"exit\", \"q\"]:\n",
    "            print(\"Goodby!\")\n",
    "            break\n",
    "\n",
    "        stream_graph_updates(user_input)\n",
    "\n",
    "    except:\n",
    "        user_input = \"What do you know about langGraph?\"\n",
    "        print(\"User: \"+ user_input)\n",
    "        stream_graph_updates(user_input)\n",
    "        break\n"
   ]
  },
  {
   "cell_type": "code",
   "execution_count": null,
   "metadata": {},
   "outputs": [],
   "source": []
  }
 ],
 "metadata": {
  "kernelspec": {
   "display_name": "Python 3",
   "language": "python",
   "name": "python3"
  },
  "language_info": {
   "codemirror_mode": {
    "name": "ipython",
    "version": 3
   },
   "file_extension": ".py",
   "mimetype": "text/x-python",
   "name": "python",
   "nbconvert_exporter": "python",
   "pygments_lexer": "ipython3",
   "version": "3.12.8"
  }
 },
 "nbformat": 4,
 "nbformat_minor": 2
}
